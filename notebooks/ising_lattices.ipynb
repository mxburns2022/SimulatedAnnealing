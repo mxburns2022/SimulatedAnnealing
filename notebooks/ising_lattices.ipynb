{
 "cells": [
  {
   "cell_type": "code",
   "execution_count": 6,
   "metadata": {},
   "outputs": [],
   "source": [
    "import networkx as nx\n",
    "import os\n",
    "import pandas as pd\n",
    "import matplotlib.pyplot as plt\n",
    "import seaborn as sns\n",
    "import numpy as np"
   ]
  },
  {
   "cell_type": "code",
   "execution_count": 2,
   "metadata": {},
   "outputs": [],
   "source": [
    "lattice = nx.lattice.grid_2d_graph(n=10, m=10, periodic=True)\n",
    "lattice = lattice"
   ]
  },
  {
   "cell_type": "code",
   "execution_count": 3,
   "metadata": {},
   "outputs": [],
   "source": [
    "def to_gset(gfile: str, g: nx.Graph):\n",
    "    with open(gfile, mode='w') as gset:\n",
    "        gset.write('{} {}\\n'.format(g.number_of_nodes(), g.number_of_edges()))\n",
    "        edgelist = g.edges()\n",
    "        n = g.number_of_nodes()\n",
    "        for u,v in g.edges():\n",
    "            src = u[0] * 10 + u[1]\n",
    "            dst = v[0] * 10 + v[1]\n",
    "            gset.write('{} {} 1\\n'.format(src, dst)) "
   ]
  },
  {
   "cell_type": "code",
   "execution_count": 38,
   "metadata": {},
   "outputs": [],
   "source": [
    "to_gset('../lattice_2d.gset', lattice)"
   ]
  },
  {
   "cell_type": "code",
   "execution_count": 39,
   "metadata": {},
   "outputs": [
    {
     "data": {
      "text/plain": [
       "EdgeView([((0, 0), (1, 0)), ((0, 0), (0, 1)), ((0, 0), (9, 0)), ((0, 0), (0, 9)), ((0, 1), (1, 1)), ((0, 1), (0, 2)), ((0, 1), (9, 1)), ((0, 2), (1, 2)), ((0, 2), (0, 3)), ((0, 2), (9, 2)), ((0, 3), (1, 3)), ((0, 3), (0, 4)), ((0, 3), (9, 3)), ((0, 4), (1, 4)), ((0, 4), (0, 5)), ((0, 4), (9, 4)), ((0, 5), (1, 5)), ((0, 5), (0, 6)), ((0, 5), (9, 5)), ((0, 6), (1, 6)), ((0, 6), (0, 7)), ((0, 6), (9, 6)), ((0, 7), (1, 7)), ((0, 7), (0, 8)), ((0, 7), (9, 7)), ((0, 8), (1, 8)), ((0, 8), (0, 9)), ((0, 8), (9, 8)), ((0, 9), (1, 9)), ((0, 9), (9, 9)), ((1, 0), (2, 0)), ((1, 0), (1, 1)), ((1, 0), (1, 9)), ((1, 1), (2, 1)), ((1, 1), (1, 2)), ((1, 2), (2, 2)), ((1, 2), (1, 3)), ((1, 3), (2, 3)), ((1, 3), (1, 4)), ((1, 4), (2, 4)), ((1, 4), (1, 5)), ((1, 5), (2, 5)), ((1, 5), (1, 6)), ((1, 6), (2, 6)), ((1, 6), (1, 7)), ((1, 7), (2, 7)), ((1, 7), (1, 8)), ((1, 8), (2, 8)), ((1, 8), (1, 9)), ((1, 9), (2, 9)), ((2, 0), (3, 0)), ((2, 0), (2, 1)), ((2, 0), (2, 9)), ((2, 1), (3, 1)), ((2, 1), (2, 2)), ((2, 2), (3, 2)), ((2, 2), (2, 3)), ((2, 3), (3, 3)), ((2, 3), (2, 4)), ((2, 4), (3, 4)), ((2, 4), (2, 5)), ((2, 5), (3, 5)), ((2, 5), (2, 6)), ((2, 6), (3, 6)), ((2, 6), (2, 7)), ((2, 7), (3, 7)), ((2, 7), (2, 8)), ((2, 8), (3, 8)), ((2, 8), (2, 9)), ((2, 9), (3, 9)), ((3, 0), (4, 0)), ((3, 0), (3, 1)), ((3, 0), (3, 9)), ((3, 1), (4, 1)), ((3, 1), (3, 2)), ((3, 2), (4, 2)), ((3, 2), (3, 3)), ((3, 3), (4, 3)), ((3, 3), (3, 4)), ((3, 4), (4, 4)), ((3, 4), (3, 5)), ((3, 5), (4, 5)), ((3, 5), (3, 6)), ((3, 6), (4, 6)), ((3, 6), (3, 7)), ((3, 7), (4, 7)), ((3, 7), (3, 8)), ((3, 8), (4, 8)), ((3, 8), (3, 9)), ((3, 9), (4, 9)), ((4, 0), (5, 0)), ((4, 0), (4, 1)), ((4, 0), (4, 9)), ((4, 1), (5, 1)), ((4, 1), (4, 2)), ((4, 2), (5, 2)), ((4, 2), (4, 3)), ((4, 3), (5, 3)), ((4, 3), (4, 4)), ((4, 4), (5, 4)), ((4, 4), (4, 5)), ((4, 5), (5, 5)), ((4, 5), (4, 6)), ((4, 6), (5, 6)), ((4, 6), (4, 7)), ((4, 7), (5, 7)), ((4, 7), (4, 8)), ((4, 8), (5, 8)), ((4, 8), (4, 9)), ((4, 9), (5, 9)), ((5, 0), (6, 0)), ((5, 0), (5, 1)), ((5, 0), (5, 9)), ((5, 1), (6, 1)), ((5, 1), (5, 2)), ((5, 2), (6, 2)), ((5, 2), (5, 3)), ((5, 3), (6, 3)), ((5, 3), (5, 4)), ((5, 4), (6, 4)), ((5, 4), (5, 5)), ((5, 5), (6, 5)), ((5, 5), (5, 6)), ((5, 6), (6, 6)), ((5, 6), (5, 7)), ((5, 7), (6, 7)), ((5, 7), (5, 8)), ((5, 8), (6, 8)), ((5, 8), (5, 9)), ((5, 9), (6, 9)), ((6, 0), (7, 0)), ((6, 0), (6, 1)), ((6, 0), (6, 9)), ((6, 1), (7, 1)), ((6, 1), (6, 2)), ((6, 2), (7, 2)), ((6, 2), (6, 3)), ((6, 3), (7, 3)), ((6, 3), (6, 4)), ((6, 4), (7, 4)), ((6, 4), (6, 5)), ((6, 5), (7, 5)), ((6, 5), (6, 6)), ((6, 6), (7, 6)), ((6, 6), (6, 7)), ((6, 7), (7, 7)), ((6, 7), (6, 8)), ((6, 8), (7, 8)), ((6, 8), (6, 9)), ((6, 9), (7, 9)), ((7, 0), (8, 0)), ((7, 0), (7, 1)), ((7, 0), (7, 9)), ((7, 1), (8, 1)), ((7, 1), (7, 2)), ((7, 2), (8, 2)), ((7, 2), (7, 3)), ((7, 3), (8, 3)), ((7, 3), (7, 4)), ((7, 4), (8, 4)), ((7, 4), (7, 5)), ((7, 5), (8, 5)), ((7, 5), (7, 6)), ((7, 6), (8, 6)), ((7, 6), (7, 7)), ((7, 7), (8, 7)), ((7, 7), (7, 8)), ((7, 8), (8, 8)), ((7, 8), (7, 9)), ((7, 9), (8, 9)), ((8, 0), (9, 0)), ((8, 0), (8, 1)), ((8, 0), (8, 9)), ((8, 1), (9, 1)), ((8, 1), (8, 2)), ((8, 2), (9, 2)), ((8, 2), (8, 3)), ((8, 3), (9, 3)), ((8, 3), (8, 4)), ((8, 4), (9, 4)), ((8, 4), (8, 5)), ((8, 5), (9, 5)), ((8, 5), (8, 6)), ((8, 6), (9, 6)), ((8, 6), (8, 7)), ((8, 7), (9, 7)), ((8, 7), (8, 8)), ((8, 8), (9, 8)), ((8, 8), (8, 9)), ((8, 9), (9, 9)), ((9, 0), (9, 1)), ((9, 0), (9, 9)), ((9, 1), (9, 2)), ((9, 2), (9, 3)), ((9, 3), (9, 4)), ((9, 4), (9, 5)), ((9, 5), (9, 6)), ((9, 6), (9, 7)), ((9, 7), (9, 8)), ((9, 8), (9, 9))])"
      ]
     },
     "execution_count": 39,
     "metadata": {},
     "output_type": "execute_result"
    }
   ],
   "source": [
    "lattice.edges()\n"
   ]
  },
  {
   "cell_type": "code",
   "execution_count": 50,
   "metadata": {},
   "outputs": [
    {
     "data": {
      "text/html": [
       "<div>\n",
       "<style scoped>\n",
       "    .dataframe tbody tr th:only-of-type {\n",
       "        vertical-align: middle;\n",
       "    }\n",
       "\n",
       "    .dataframe tbody tr th {\n",
       "        vertical-align: top;\n",
       "    }\n",
       "\n",
       "    .dataframe thead th {\n",
       "        text-align: right;\n",
       "    }\n",
       "</style>\n",
       "<table border=\"1\" class=\"dataframe\">\n",
       "  <thead>\n",
       "    <tr style=\"text-align: right;\">\n",
       "      <th></th>\n",
       "      <th>epoch</th>\n",
       "      <th>beta</th>\n",
       "      <th>M</th>\n",
       "      <th>ene</th>\n",
       "    </tr>\n",
       "  </thead>\n",
       "  <tbody>\n",
       "    <tr>\n",
       "      <th>0</th>\n",
       "      <td>0</td>\n",
       "      <td>0.0001</td>\n",
       "      <td>0.0004</td>\n",
       "      <td>4</td>\n",
       "    </tr>\n",
       "    <tr>\n",
       "      <th>1</th>\n",
       "      <td>1</td>\n",
       "      <td>0.0102</td>\n",
       "      <td>0.0004</td>\n",
       "      <td>-32</td>\n",
       "    </tr>\n",
       "    <tr>\n",
       "      <th>2</th>\n",
       "      <td>2</td>\n",
       "      <td>0.0203</td>\n",
       "      <td>0.0036</td>\n",
       "      <td>16</td>\n",
       "    </tr>\n",
       "    <tr>\n",
       "      <th>3</th>\n",
       "      <td>3</td>\n",
       "      <td>0.0304</td>\n",
       "      <td>0.0036</td>\n",
       "      <td>20</td>\n",
       "    </tr>\n",
       "    <tr>\n",
       "      <th>4</th>\n",
       "      <td>4</td>\n",
       "      <td>0.0405</td>\n",
       "      <td>0.0004</td>\n",
       "      <td>-4</td>\n",
       "    </tr>\n",
       "    <tr>\n",
       "      <th>...</th>\n",
       "      <td>...</td>\n",
       "      <td>...</td>\n",
       "      <td>...</td>\n",
       "      <td>...</td>\n",
       "    </tr>\n",
       "    <tr>\n",
       "      <th>95</th>\n",
       "      <td>95</td>\n",
       "      <td>0.9596</td>\n",
       "      <td>1.0000</td>\n",
       "      <td>-200</td>\n",
       "    </tr>\n",
       "    <tr>\n",
       "      <th>96</th>\n",
       "      <td>96</td>\n",
       "      <td>0.9697</td>\n",
       "      <td>1.0000</td>\n",
       "      <td>-200</td>\n",
       "    </tr>\n",
       "    <tr>\n",
       "      <th>97</th>\n",
       "      <td>97</td>\n",
       "      <td>0.9798</td>\n",
       "      <td>1.0000</td>\n",
       "      <td>-200</td>\n",
       "    </tr>\n",
       "    <tr>\n",
       "      <th>98</th>\n",
       "      <td>98</td>\n",
       "      <td>0.9899</td>\n",
       "      <td>1.0000</td>\n",
       "      <td>-200</td>\n",
       "    </tr>\n",
       "    <tr>\n",
       "      <th>99</th>\n",
       "      <td>99</td>\n",
       "      <td>1.0000</td>\n",
       "      <td>1.0000</td>\n",
       "      <td>-200</td>\n",
       "    </tr>\n",
       "  </tbody>\n",
       "</table>\n",
       "<p>100000 rows × 4 columns</p>\n",
       "</div>"
      ],
      "text/plain": [
       "    epoch    beta       M  ene\n",
       "0       0  0.0001  0.0004    4\n",
       "1       1  0.0102  0.0004  -32\n",
       "2       2  0.0203  0.0036   16\n",
       "3       3  0.0304  0.0036   20\n",
       "4       4  0.0405  0.0004   -4\n",
       "..    ...     ...     ...  ...\n",
       "95     95  0.9596  1.0000 -200\n",
       "96     96  0.9697  1.0000 -200\n",
       "97     97  0.9798  1.0000 -200\n",
       "98     98  0.9899  1.0000 -200\n",
       "99     99  1.0000  1.0000 -200\n",
       "\n",
       "[100000 rows x 4 columns]"
      ]
     },
     "execution_count": 50,
     "metadata": {},
     "output_type": "execute_result"
    }
   ],
   "source": [
    "files = [os.path.abspath('../data/'+i) for i in os.listdir('../data')]\n",
    "dflist = [pd.read_csv(i) for i in files]\n",
    "df = pd.concat(dflist)\n",
    "df"
   ]
  },
  {
   "cell_type": "code",
   "execution_count": 51,
   "metadata": {},
   "outputs": [],
   "source": [
    "mean_df = df.groupby('beta').mean().reset_index()"
   ]
  },
  {
   "cell_type": "code",
   "execution_count": 52,
   "metadata": {},
   "outputs": [],
   "source": [
    "mean_df['$\\sqrt{M}$'] = np.sqrt(mean_df['M'])"
   ]
  },
  {
   "cell_type": "code",
   "execution_count": 54,
   "metadata": {},
   "outputs": [
    {
     "data": {
      "text/plain": [
       "<AxesSubplot: xlabel='beta', ylabel='$\\\\sqrt{M}$'>"
      ]
     },
     "execution_count": 54,
     "metadata": {},
     "output_type": "execute_result"
    },
    {
     "data": {
      "image/png": "[encoded data removed]",
      "text/plain": [
       "<Figure size 640x480 with 1 Axes>"
      ]
     },
     "metadata": {},
     "output_type": "display_data"
    }
   ],
   "source": [
    "sns.lineplot(data=mean_df, x='beta', y='$\\sqrt{M}$')"
   ]
  },
  {
   "cell_type": "code",
   "execution_count": 55,
   "metadata": {},
   "outputs": [
    {
     "data": {
      "text/plain": [
       "<AxesSubplot: xlabel='beta', ylabel='ene'>"
      ]
     },
     "execution_count": 55,
     "metadata": {},
     "output_type": "execute_result"
    },
    {
     "data": {
      "image/png": "[encoded data removed]",
      "text/plain": [
       "<Figure size 640x480 with 1 Axes>"
      ]
     },
     "metadata": {},
     "output_type": "display_data"
    }
   ],
   "source": [
    "sns.lineplot(data=mean_df, x='beta', y='ene')"
   ]
  },
  {
   "cell_type": "code",
   "execution_count": 56,
   "metadata": {},
   "outputs": [],
   "source": [
    "# df.to_csv('full_active_2d.csv', index=False)"
   ]
  },
  {
   "cell_type": "code",
   "execution_count": null,
   "metadata": {},
   "outputs": [],
   "source": []
  }
 ],
 "metadata": {
  "kernelspec": {
   "display_name": "Python 3",
   "language": "python",
   "name": "python3"
  },
  "language_info": {
   "codemirror_mode": {
    "name": "ipython",
    "version": 3
   },
   "file_extension": ".py",
   "mimetype": "text/x-python",
   "name": "python",
   "nbconvert_exporter": "python",
   "pygments_lexer": "ipython3",
   "version": "3.10.11"
  },
  "orig_nbformat": 4
 },
 "nbformat": 4,
 "nbformat_minor": 2
}
